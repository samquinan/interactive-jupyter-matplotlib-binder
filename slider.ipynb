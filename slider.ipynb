{
 "cells": [
  {
   "cell_type": "code",
   "execution_count": 1,
   "metadata": {},
   "outputs": [],
   "source": [
    "%matplotlib widget"
   ]
  },
  {
   "cell_type": "markdown",
   "metadata": {},
   "source": [
    "\n",
    "# Slider Demo\n",
    "\n",
    "Using the slider widget to control visual properties of your plot.\n",
    "\n",
    "In this example, a slider is used to choose the frequency of a sine\n",
    "wave. You can control many continuously-varying properties of your plot in\n",
    "this way.\n",
    "\n",
    "This version utilizes iPython's interactive widgets instead of matplotlib's."
   ]
  },
  {
   "cell_type": "code",
   "execution_count": 2,
   "metadata": {
    "code_folding": [
     0,
     9,
     17,
     25,
     63,
     74
    ]
   },
   "outputs": [
    {
     "data": {
      "application/vnd.jupyter.widget-view+json": {
       "model_id": "a8fcc6e786f34d65a29943321223b64b",
       "version_major": 2,
       "version_minor": 0
      },
      "text/plain": [
       "VBox(children=(HBox(children=(RadioButtons(description='Color', options=('red', 'blue', 'green'), value='red')…"
      ]
     },
     "metadata": {},
     "output_type": "display_data"
    }
   ],
   "source": [
    "# --- CODE FOR SLIDER DEMO ---\n",
    "import numpy as np\n",
    "import ipywidgets as widgets\n",
    "import matplotlib.pyplot as plt\n",
    "import matplotlib.gridspec as gridspec\n",
    "\n",
    "plt.ioff() # turns interactive mode off (why?)\n",
    "plt.clf()  # clears current figure\n",
    "\n",
    "amp = widgets.FloatSlider( orientation='horizontal',\n",
    "                            description='Amp',\n",
    "                            value=5,\n",
    "                            min=1,\n",
    "                            max=10,\n",
    "                            continuous_update=True,\n",
    "                            )\n",
    "\n",
    "freq = widgets.FloatSlider(orientation='horizontal',\n",
    "                            description='Freq',\n",
    "                            value=3,\n",
    "                            min=0.1,\n",
    "                            max=30,\n",
    "                            continuous_update=True,\n",
    "                            )\n",
    "\n",
    "color = widgets.RadioButtons(   options=['red', 'blue', 'green'],\n",
    "                                description='Color',\n",
    "                                disabled=False\n",
    "                            )\n",
    "\n",
    "# calculate sin function\n",
    "t = np.arange(0.0, 1.0, 0.001)\n",
    "s = amp.value*np.sin(2*np.pi*freq.value*t)\n",
    "\n",
    "fig = plt.figure(figsize=(6,4))\n",
    "gs = gridspec.GridSpec(1, 1)\n",
    "ax = plt.subplot(gs[0,0])\n",
    "\n",
    "l, = ax.plot(t, s, lw=2, color=color.value)\n",
    "\n",
    "\n",
    "def redraw():\n",
    "    fig.canvas.draw_idle()\n",
    "    fig.canvas.flush_events()\n",
    "\n",
    "def update(change):\n",
    "    l.set_color(color.value)\n",
    "    y = amp.value*np.sin(2*np.pi*freq.value*t)    \n",
    "    l.set_ydata(y)\n",
    "    test.min = min(y)*1.1\n",
    "    test.max = max(y)*1.1\n",
    "    ax.relim()\n",
    "    ax.autoscale(axis='y')\n",
    "    redraw()\n",
    "    \n",
    "amp.observe(update, names='value')\n",
    "freq.observe(update, names='value')\n",
    "color.observe(update, names='value')\n",
    "\n",
    "# widgets.VBox([widgets.HBox([color, widgets.VBox([amp, freq])]), fig.canvas])\n",
    "\n",
    "#--------- Update for Test -----------\n",
    "\n",
    "test = widgets.FloatSlider(orientation='horizontal',\n",
    "                            description='',\n",
    "                            value=0,\n",
    "                            min=-6,\n",
    "                            max=6,\n",
    "                            continuous_update=True,\n",
    "                            )\n",
    "\n",
    "\n",
    "l2 = ax.axhline(y=test.value, color='black', linestyle=':', alpha=0.7)\n",
    "\n",
    "def update_test(change):\n",
    "    l2.set_ydata(test.value)\n",
    "    redraw()\n",
    "\n",
    "test.observe(update_test, names='value')\n",
    "\n",
    "\n",
    "widgets.VBox([widgets.HBox([color, widgets.VBox([amp, freq, test])]), fig.canvas])\n",
    "\n",
    "#--------------------------------------"
   ]
  },
  {
   "cell_type": "markdown",
   "metadata": {},
   "source": [
    "# Updating Filled Contours\n",
    "\n",
    "Here's a second example showing how to update filled contours, which are rendered as a PolyCollection as opposed to a single Line2D instance. Reducing the number of samples (i.e., in `t`) for the *sine* function and inspecting the verticies of the path of the PolyCollection object returned by `fill_between()` should provide suffcient context for how the update scheme works.\n"
   ]
  },
  {
   "cell_type": "code",
   "execution_count": 4,
   "metadata": {
    "code_folding": [
     8,
     16,
     24,
     40
    ]
   },
   "outputs": [
    {
     "data": {
      "application/vnd.jupyter.widget-view+json": {
       "model_id": "eccef35cfbdb45b8b47a481ef2b33365",
       "version_major": 2,
       "version_minor": 0
      },
      "text/plain": [
       "VBox(children=(HBox(children=(RadioButtons(description='Color', options=('red', 'blue', 'green'), value='red')…"
      ]
     },
     "metadata": {},
     "output_type": "display_data"
    }
   ],
   "source": [
    "import numpy as np\n",
    "import ipywidgets as widgets\n",
    "import matplotlib.pyplot as plt\n",
    "import matplotlib.gridspec as gridspec\n",
    "\n",
    "plt.ioff() # turns interactive mode off (why?)\n",
    "plt.clf()  # clears current figure\n",
    "\n",
    "amp = widgets.FloatSlider( orientation='horizontal',\n",
    "                            description='Amp',\n",
    "                            value=5,\n",
    "                            min=1,\n",
    "                            max=10,\n",
    "                            continuous_update=True,\n",
    "                            )\n",
    "\n",
    "freq = widgets.FloatSlider(orientation='horizontal',\n",
    "                            description='Freq',\n",
    "                            value=1,\n",
    "                            min=0.1,\n",
    "                            max=30,\n",
    "                            continuous_update=True,\n",
    "                            )\n",
    "\n",
    "color = widgets.RadioButtons(   options=['red', 'blue', 'green'],\n",
    "                                description='Color',\n",
    "                                disabled=False\n",
    "                            )\n",
    "\n",
    "# calculate sin function\n",
    "t = np.arange(0.0, 1.0, 0.001)\n",
    "s = amp.value*np.sin(2*np.pi*freq.value*t)\n",
    "\n",
    "fig = plt.figure(figsize=(6,4))\n",
    "gs = gridspec.GridSpec(1, 1)\n",
    "ax = plt.subplot(gs[0,0])\n",
    "\n",
    "# poly_collection = ax.fill_between(t, s, lw=2, color=color.value)\n",
    "pc = ax.fill_between(t, s, lw=2, color=color.value)\n",
    "\n",
    "def redraw():\n",
    "    fig.canvas.draw_idle()\n",
    "    fig.canvas.flush_events()\n",
    "\n",
    "def update(change):\n",
    "    pc.set_color(color.value)\n",
    "    y = amp.value*np.sin(2*np.pi*freq.value*t)\n",
    "    path = pc.get_paths()[0]\n",
    "    path.vertices[1:len(t)+1,1] = y\n",
    "    redraw()\n",
    "    \n",
    "amp.observe(update, names='value')\n",
    "freq.observe(update, names='value')\n",
    "color.observe(update, names='value')\n",
    "\n",
    "widgets.VBox([widgets.HBox([color, widgets.VBox([amp, freq])]), fig.canvas])"
   ]
  },
  {
   "cell_type": "code",
   "execution_count": null,
   "metadata": {},
   "outputs": [],
   "source": []
  }
 ],
 "metadata": {
  "kernelspec": {
   "display_name": "Python 3",
   "language": "python",
   "name": "python3"
  },
  "language_info": {
   "codemirror_mode": {
    "name": "ipython",
    "version": 3
   },
   "file_extension": ".py",
   "mimetype": "text/x-python",
   "name": "python",
   "nbconvert_exporter": "python",
   "pygments_lexer": "ipython3",
   "version": "3.5.4"
  }
 },
 "nbformat": 4,
 "nbformat_minor": 2
}
